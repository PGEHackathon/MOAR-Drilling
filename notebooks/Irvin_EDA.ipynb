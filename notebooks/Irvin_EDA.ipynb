{
 "cells": [
  {
   "cell_type": "markdown",
   "id": "seeing-reception",
   "metadata": {},
   "source": [
    "## Import Statments"
   ]
  },
  {
   "cell_type": "code",
   "execution_count": 68,
   "id": "unlimited-signature",
   "metadata": {},
   "outputs": [],
   "source": [
    "#Imports\n",
    "#Data processing\n",
    "import pandas as pd\n",
    "import numpy as np\n",
    "\n",
    "#visualization\n",
    "import seaborn as sns\n",
    "import matplotlib.pyplot as plt\n",
    "\n",
    "#ML libs\n",
    "from sklearn.preprocessing import StandardScaler\n",
    "from sklearn.impute import KNNImputer\n",
    "from sklearn.cluster import DBSCAN\n",
    "from sklearn.model_selection import train_test_split\n",
    "import xgboost as xgb\n",
    "from sklearn.metrics import mean_absolute_error\n",
    "from sklearn.linear_model import LinearRegression"
   ]
  },
  {
   "cell_type": "markdown",
   "id": "thick-walker",
   "metadata": {},
   "source": [
    "## Import Data"
   ]
  },
  {
   "cell_type": "code",
   "execution_count": 2,
   "id": "acute-designer",
   "metadata": {
    "tags": []
   },
   "outputs": [],
   "source": [
    "#Import features of each production well into dfProd\n",
    "dfProd = pd.read_csv((r\"../well_data/wellbore_data_producer_wells.csv\"))"
   ]
  },
  {
   "cell_type": "markdown",
   "id": "limited-cholesterol",
   "metadata": {},
   "source": [
    "## Data Prep"
   ]
  },
  {
   "cell_type": "markdown",
   "id": "ambient-mobility",
   "metadata": {},
   "source": [
    "Instead of KNN or overall mean imputation, the following values should have a value that can be determined as an average over the entire well and applied (well-by-well imputation)"
   ]
  },
  {
   "cell_type": "code",
   "execution_count": 3,
   "id": "funded-truck",
   "metadata": {
    "tags": []
   },
   "outputs": [
    {
     "name": "stdout",
     "output_type": "stream",
     "text": [
      "         Porosity, fraction  Permeability, mD  Compressible velocity, m/s  \\\n",
      "Well_ID                                                                     \n",
      "1                  0.133426        189.116974                 3392.897466   \n",
      "2                  0.128885        176.367428                 3514.562352   \n",
      "3                  0.118062        119.421584                 3972.826143   \n",
      "4                  0.138111        151.595670                 3675.865373   \n",
      "5                  0.130910        123.891145                 3790.337407   \n",
      "...                     ...               ...                         ...   \n",
      "69                 0.124074        166.810299                 3996.551094   \n",
      "70                 0.139168        201.311447                 3308.578249   \n",
      "71                 0.133675        105.286049                 3649.363331   \n",
      "72                 0.109639         48.529438                 3899.275259   \n",
      "73                 0.129752        101.693127                 3758.822664   \n",
      "\n",
      "         Youngs modulus, GPa  Shear modulus, GPa  Shear velocity, m/s  \n",
      "Well_ID                                                                \n",
      "1                  25.674891            6.357954          1656.844649  \n",
      "2                  25.284289            6.436651          1673.452546  \n",
      "3                  27.938946            5.699668          1676.017976  \n",
      "4                  27.021138            5.432418          1651.691173  \n",
      "5                  27.761162            5.262329          1709.912999  \n",
      "...                      ...                 ...                  ...  \n",
      "69                 29.141045            5.317462          1677.668722  \n",
      "70                 25.009714            6.593852          1682.541663  \n",
      "71                 27.553182            5.247501          1655.008020  \n",
      "72                 29.041203            5.762140          1687.199686  \n",
      "73                 28.090121            5.131624          1633.812156  \n",
      "\n",
      "[73 rows x 6 columns]\n"
     ]
    },
    {
     "data": {
      "text/plain": [
       "Porosity, fraction            0\n",
       "Permeability, mD              0\n",
       "Compressible velocity, m/s    0\n",
       "Youngs modulus, GPa           0\n",
       "Shear modulus, GPa            0\n",
       "Shear velocity, m/s           0\n",
       "dtype: int64"
      ]
     },
     "execution_count": 3,
     "metadata": {},
     "output_type": "execute_result"
    }
   ],
   "source": [
    "avg_features = [\"Porosity, fraction\", \"Permeability, mD\", \"Compressible velocity, m/s\",\"Youngs modulus, GPa\", \"Shear modulus, GPa\",\"Shear velocity, m/s\"]\n",
    "avg_dict = {k:\"mean\" for k in avg_features}\n",
    "dfProd[\"Well_ID\"] = dfProd[\"Well_ID\"].str[8:].astype(int)\n",
    "dfWellAvg = dfProd.groupby(dfProd[\"Well_ID\"]).agg(avg_dict)\n",
    "print(dfWellAvg)\n",
    "dfWellAvg.isna().sum()"
   ]
  },
  {
   "cell_type": "code",
   "execution_count": 4,
   "id": "composite-worship",
   "metadata": {},
   "outputs": [
    {
     "data": {
      "text/html": [
       "<div>\n",
       "<style scoped>\n",
       "    .dataframe tbody tr th:only-of-type {\n",
       "        vertical-align: middle;\n",
       "    }\n",
       "\n",
       "    .dataframe tbody tr th {\n",
       "        vertical-align: top;\n",
       "    }\n",
       "\n",
       "    .dataframe thead th {\n",
       "        text-align: right;\n",
       "    }\n",
       "</style>\n",
       "<table border=\"1\" class=\"dataframe\">\n",
       "  <thead>\n",
       "    <tr style=\"text-align: right;\">\n",
       "      <th></th>\n",
       "      <th>Porosity, fraction</th>\n",
       "      <th>Permeability, mD</th>\n",
       "      <th>Compressible velocity, m/s</th>\n",
       "      <th>Youngs modulus, GPa</th>\n",
       "      <th>Shear modulus, GPa</th>\n",
       "      <th>Shear velocity, m/s</th>\n",
       "    </tr>\n",
       "  </thead>\n",
       "  <tbody>\n",
       "    <tr>\n",
       "      <th>count</th>\n",
       "      <td>73.000000</td>\n",
       "      <td>73.000000</td>\n",
       "      <td>73.000000</td>\n",
       "      <td>73.000000</td>\n",
       "      <td>73.000000</td>\n",
       "      <td>73.000000</td>\n",
       "    </tr>\n",
       "    <tr>\n",
       "      <th>mean</th>\n",
       "      <td>0.127886</td>\n",
       "      <td>113.409308</td>\n",
       "      <td>3692.465430</td>\n",
       "      <td>27.306561</td>\n",
       "      <td>5.751262</td>\n",
       "      <td>1676.124958</td>\n",
       "    </tr>\n",
       "    <tr>\n",
       "      <th>std</th>\n",
       "      <td>0.011534</td>\n",
       "      <td>53.227536</td>\n",
       "      <td>275.928692</td>\n",
       "      <td>2.132350</td>\n",
       "      <td>0.447604</td>\n",
       "      <td>22.791342</td>\n",
       "    </tr>\n",
       "    <tr>\n",
       "      <th>min</th>\n",
       "      <td>0.103266</td>\n",
       "      <td>17.692998</td>\n",
       "      <td>3226.716917</td>\n",
       "      <td>23.926022</td>\n",
       "      <td>4.952945</td>\n",
       "      <td>1629.142399</td>\n",
       "    </tr>\n",
       "    <tr>\n",
       "      <th>25%</th>\n",
       "      <td>0.119792</td>\n",
       "      <td>77.784480</td>\n",
       "      <td>3444.442189</td>\n",
       "      <td>25.499713</td>\n",
       "      <td>5.331215</td>\n",
       "      <td>1657.608521</td>\n",
       "    </tr>\n",
       "    <tr>\n",
       "      <th>50%</th>\n",
       "      <td>0.128884</td>\n",
       "      <td>99.067583</td>\n",
       "      <td>3688.453880</td>\n",
       "      <td>27.021138</td>\n",
       "      <td>5.708991</td>\n",
       "      <td>1676.017976</td>\n",
       "    </tr>\n",
       "    <tr>\n",
       "      <th>75%</th>\n",
       "      <td>0.134574</td>\n",
       "      <td>141.908305</td>\n",
       "      <td>3906.539696</td>\n",
       "      <td>29.041203</td>\n",
       "      <td>6.137787</td>\n",
       "      <td>1690.990515</td>\n",
       "    </tr>\n",
       "    <tr>\n",
       "      <th>max</th>\n",
       "      <td>0.163979</td>\n",
       "      <td>262.406426</td>\n",
       "      <td>4355.738959</td>\n",
       "      <td>31.787065</td>\n",
       "      <td>6.593852</td>\n",
       "      <td>1727.196584</td>\n",
       "    </tr>\n",
       "  </tbody>\n",
       "</table>\n",
       "</div>"
      ],
      "text/plain": [
       "       Porosity, fraction  Permeability, mD  Compressible velocity, m/s  \\\n",
       "count           73.000000         73.000000                   73.000000   \n",
       "mean             0.127886        113.409308                 3692.465430   \n",
       "std              0.011534         53.227536                  275.928692   \n",
       "min              0.103266         17.692998                 3226.716917   \n",
       "25%              0.119792         77.784480                 3444.442189   \n",
       "50%              0.128884         99.067583                 3688.453880   \n",
       "75%              0.134574        141.908305                 3906.539696   \n",
       "max              0.163979        262.406426                 4355.738959   \n",
       "\n",
       "       Youngs modulus, GPa  Shear modulus, GPa  Shear velocity, m/s  \n",
       "count            73.000000           73.000000            73.000000  \n",
       "mean             27.306561            5.751262          1676.124958  \n",
       "std               2.132350            0.447604            22.791342  \n",
       "min              23.926022            4.952945          1629.142399  \n",
       "25%              25.499713            5.331215          1657.608521  \n",
       "50%              27.021138            5.708991          1676.017976  \n",
       "75%              29.041203            6.137787          1690.990515  \n",
       "max              31.787065            6.593852          1727.196584  "
      ]
     },
     "execution_count": 4,
     "metadata": {},
     "output_type": "execute_result"
    }
   ],
   "source": [
    "# Checking to make sure that nothing has an average value of 0 for anything, as that may mean that all values were NaN for a well\n",
    "dfWellAvg.describe()\n",
    "#Looks like we're okay"
   ]
  },
  {
   "cell_type": "code",
   "execution_count": 5,
   "id": "scheduled-chile",
   "metadata": {},
   "outputs": [],
   "source": [
    "WellAvgdict = dfWellAvg.to_dict()"
   ]
  },
  {
   "cell_type": "code",
   "execution_count": 6,
   "id": "twenty-vietnam",
   "metadata": {},
   "outputs": [
    {
     "data": {
      "text/plain": [
       "array(['Sandstone', 'Sandy shale', 'Shaly sandstone', nan, 'Shale'],\n",
       "      dtype=object)"
      ]
     },
     "execution_count": 6,
     "metadata": {},
     "output_type": "execute_result"
    }
   ],
   "source": [
    "dfProd[\"Rock facies\"].unique()"
   ]
  },
  {
   "cell_type": "code",
   "execution_count": 7,
   "id": "living-permission",
   "metadata": {},
   "outputs": [],
   "source": [
    "ordinal_mapper = {'Sandstone': 4, 'Sandy shale': 2, 'Shaly sandstone': 3, 'Shale': 1}\n",
    "dfProd['Rock facies'] = dfProd['Rock facies'].replace(ordinal_mapper)"
   ]
  },
  {
   "cell_type": "code",
   "execution_count": 8,
   "id": "hollywood-partition",
   "metadata": {},
   "outputs": [
    {
     "data": {
      "text/plain": [
       "Well_ID                           int32\n",
       "X, m                              int64\n",
       "Y, m                              int64\n",
       "Depth, m                        float64\n",
       "Porosity, fraction              float64\n",
       "Permeability, mD                float64\n",
       "Acoustic Impedance, kg*s/m^2    float64\n",
       "Rock facies                     float64\n",
       "Density, g/cm3                  float64\n",
       "Compressible velocity, m/s      float64\n",
       "Youngs modulus, GPa             float64\n",
       "Shear velocity, m/s             float64\n",
       "Shear modulus, GPa              float64\n",
       "dtype: object"
      ]
     },
     "execution_count": 8,
     "metadata": {},
     "output_type": "execute_result"
    }
   ],
   "source": [
    "dfProd.dtypes"
   ]
  },
  {
   "cell_type": "markdown",
   "id": "refined-consideration",
   "metadata": {},
   "source": [
    "## Imputation"
   ]
  },
  {
   "cell_type": "code",
   "execution_count": 9,
   "id": "vanilla-novelty",
   "metadata": {},
   "outputs": [
    {
     "data": {
      "text/plain": [
       "Porosity, fraction               0.133426\n",
       "Permeability, mD               189.116974\n",
       "Compressible velocity, m/s    3392.897466\n",
       "Youngs modulus, GPa             25.674891\n",
       "Shear modulus, GPa               6.357954\n",
       "Shear velocity, m/s           1656.844649\n",
       "Name: 1, dtype: float64"
      ]
     },
     "execution_count": 9,
     "metadata": {},
     "output_type": "execute_result"
    }
   ],
   "source": [
    "dfWellAvg.loc[1]"
   ]
  },
  {
   "cell_type": "code",
   "execution_count": 10,
   "id": "wooden-amount",
   "metadata": {},
   "outputs": [],
   "source": [
    "imputer = KNNImputer(n_neighbors=3)"
   ]
  },
  {
   "cell_type": "code",
   "execution_count": 11,
   "id": "through-rochester",
   "metadata": {},
   "outputs": [
    {
     "data": {
      "text/html": [
       "<div>\n",
       "<style scoped>\n",
       "    .dataframe tbody tr th:only-of-type {\n",
       "        vertical-align: middle;\n",
       "    }\n",
       "\n",
       "    .dataframe tbody tr th {\n",
       "        vertical-align: top;\n",
       "    }\n",
       "\n",
       "    .dataframe thead th {\n",
       "        text-align: right;\n",
       "    }\n",
       "</style>\n",
       "<table border=\"1\" class=\"dataframe\">\n",
       "  <thead>\n",
       "    <tr style=\"text-align: right;\">\n",
       "      <th></th>\n",
       "      <th>Well_ID</th>\n",
       "      <th>X, m</th>\n",
       "      <th>Y, m</th>\n",
       "      <th>Depth, m</th>\n",
       "      <th>Porosity, fraction</th>\n",
       "      <th>Permeability, mD</th>\n",
       "      <th>Acoustic Impedance, kg*s/m^2</th>\n",
       "      <th>Rock facies</th>\n",
       "      <th>Density, g/cm3</th>\n",
       "      <th>Compressible velocity, m/s</th>\n",
       "      <th>Youngs modulus, GPa</th>\n",
       "      <th>Shear velocity, m/s</th>\n",
       "      <th>Shear modulus, GPa</th>\n",
       "    </tr>\n",
       "  </thead>\n",
       "  <tbody>\n",
       "    <tr>\n",
       "      <th>count</th>\n",
       "      <td>1460.000000</td>\n",
       "      <td>1460.000000</td>\n",
       "      <td>1460.000000</td>\n",
       "      <td>1460.000000</td>\n",
       "      <td>1268.000000</td>\n",
       "      <td>284.000000</td>\n",
       "      <td>1.357000e+03</td>\n",
       "      <td>1330.000000</td>\n",
       "      <td>1248.000000</td>\n",
       "      <td>1276.000000</td>\n",
       "      <td>1261.000000</td>\n",
       "      <td>1270.000000</td>\n",
       "      <td>1285.000000</td>\n",
       "    </tr>\n",
       "    <tr>\n",
       "      <th>mean</th>\n",
       "      <td>37.000000</td>\n",
       "      <td>4188.698630</td>\n",
       "      <td>5770.890411</td>\n",
       "      <td>3055.810959</td>\n",
       "      <td>0.127746</td>\n",
       "      <td>112.182739</td>\n",
       "      <td>7.325786e+06</td>\n",
       "      <td>3.185714</td>\n",
       "      <td>2.052521</td>\n",
       "      <td>3688.657853</td>\n",
       "      <td>27.288877</td>\n",
       "      <td>1676.158075</td>\n",
       "      <td>5.752640</td>\n",
       "    </tr>\n",
       "    <tr>\n",
       "      <th>std</th>\n",
       "      <td>21.078527</td>\n",
       "      <td>1771.495039</td>\n",
       "      <td>2389.773641</td>\n",
       "      <td>4.353335</td>\n",
       "      <td>0.036020</td>\n",
       "      <td>80.894436</td>\n",
       "      <td>3.101125e+05</td>\n",
       "      <td>0.960126</td>\n",
       "      <td>0.417622</td>\n",
       "      <td>727.216238</td>\n",
       "      <td>5.424608</td>\n",
       "      <td>100.630094</td>\n",
       "      <td>1.518699</td>\n",
       "    </tr>\n",
       "    <tr>\n",
       "      <th>min</th>\n",
       "      <td>1.000000</td>\n",
       "      <td>1175.000000</td>\n",
       "      <td>775.000000</td>\n",
       "      <td>3045.620000</td>\n",
       "      <td>0.040270</td>\n",
       "      <td>2.214604</td>\n",
       "      <td>6.559277e+06</td>\n",
       "      <td>1.000000</td>\n",
       "      <td>1.421943</td>\n",
       "      <td>1661.828496</td>\n",
       "      <td>13.205134</td>\n",
       "      <td>1307.887097</td>\n",
       "      <td>1.650985</td>\n",
       "    </tr>\n",
       "    <tr>\n",
       "      <th>25%</th>\n",
       "      <td>19.000000</td>\n",
       "      <td>2925.000000</td>\n",
       "      <td>3825.000000</td>\n",
       "      <td>3052.720000</td>\n",
       "      <td>0.113953</td>\n",
       "      <td>51.540980</td>\n",
       "      <td>7.111056e+06</td>\n",
       "      <td>3.000000</td>\n",
       "      <td>1.734052</td>\n",
       "      <td>3178.389486</td>\n",
       "      <td>23.466538</td>\n",
       "      <td>1608.928309</td>\n",
       "      <td>4.757475</td>\n",
       "    </tr>\n",
       "    <tr>\n",
       "      <th>50%</th>\n",
       "      <td>37.000000</td>\n",
       "      <td>3875.000000</td>\n",
       "      <td>6125.000000</td>\n",
       "      <td>3055.790000</td>\n",
       "      <td>0.137495</td>\n",
       "      <td>93.980722</td>\n",
       "      <td>7.274333e+06</td>\n",
       "      <td>3.000000</td>\n",
       "      <td>1.988542</td>\n",
       "      <td>3664.196826</td>\n",
       "      <td>26.647466</td>\n",
       "      <td>1674.836574</td>\n",
       "      <td>5.610267</td>\n",
       "    </tr>\n",
       "    <tr>\n",
       "      <th>75%</th>\n",
       "      <td>55.000000</td>\n",
       "      <td>5325.000000</td>\n",
       "      <td>7625.000000</td>\n",
       "      <td>3058.982500</td>\n",
       "      <td>0.152325</td>\n",
       "      <td>154.584890</td>\n",
       "      <td>7.503378e+06</td>\n",
       "      <td>4.000000</td>\n",
       "      <td>2.229507</td>\n",
       "      <td>4214.924966</td>\n",
       "      <td>30.874629</td>\n",
       "      <td>1746.081251</td>\n",
       "      <td>6.600503</td>\n",
       "    </tr>\n",
       "    <tr>\n",
       "      <th>max</th>\n",
       "      <td>73.000000</td>\n",
       "      <td>7975.000000</td>\n",
       "      <td>9775.000000</td>\n",
       "      <td>3066.300000</td>\n",
       "      <td>0.188910</td>\n",
       "      <td>489.219402</td>\n",
       "      <td>8.249272e+06</td>\n",
       "      <td>4.000000</td>\n",
       "      <td>3.530373</td>\n",
       "      <td>6179.653016</td>\n",
       "      <td>48.123292</td>\n",
       "      <td>1989.829247</td>\n",
       "      <td>11.820038</td>\n",
       "    </tr>\n",
       "  </tbody>\n",
       "</table>\n",
       "</div>"
      ],
      "text/plain": [
       "           Well_ID         X, m         Y, m     Depth, m  Porosity, fraction  \\\n",
       "count  1460.000000  1460.000000  1460.000000  1460.000000         1268.000000   \n",
       "mean     37.000000  4188.698630  5770.890411  3055.810959            0.127746   \n",
       "std      21.078527  1771.495039  2389.773641     4.353335            0.036020   \n",
       "min       1.000000  1175.000000   775.000000  3045.620000            0.040270   \n",
       "25%      19.000000  2925.000000  3825.000000  3052.720000            0.113953   \n",
       "50%      37.000000  3875.000000  6125.000000  3055.790000            0.137495   \n",
       "75%      55.000000  5325.000000  7625.000000  3058.982500            0.152325   \n",
       "max      73.000000  7975.000000  9775.000000  3066.300000            0.188910   \n",
       "\n",
       "       Permeability, mD  Acoustic Impedance, kg*s/m^2  Rock facies  \\\n",
       "count        284.000000                  1.357000e+03  1330.000000   \n",
       "mean         112.182739                  7.325786e+06     3.185714   \n",
       "std           80.894436                  3.101125e+05     0.960126   \n",
       "min            2.214604                  6.559277e+06     1.000000   \n",
       "25%           51.540980                  7.111056e+06     3.000000   \n",
       "50%           93.980722                  7.274333e+06     3.000000   \n",
       "75%          154.584890                  7.503378e+06     4.000000   \n",
       "max          489.219402                  8.249272e+06     4.000000   \n",
       "\n",
       "       Density, g/cm3  Compressible velocity, m/s  Youngs modulus, GPa  \\\n",
       "count     1248.000000                 1276.000000          1261.000000   \n",
       "mean         2.052521                 3688.657853            27.288877   \n",
       "std          0.417622                  727.216238             5.424608   \n",
       "min          1.421943                 1661.828496            13.205134   \n",
       "25%          1.734052                 3178.389486            23.466538   \n",
       "50%          1.988542                 3664.196826            26.647466   \n",
       "75%          2.229507                 4214.924966            30.874629   \n",
       "max          3.530373                 6179.653016            48.123292   \n",
       "\n",
       "       Shear velocity, m/s  Shear modulus, GPa  \n",
       "count          1270.000000         1285.000000  \n",
       "mean           1676.158075            5.752640  \n",
       "std             100.630094            1.518699  \n",
       "min            1307.887097            1.650985  \n",
       "25%            1608.928309            4.757475  \n",
       "50%            1674.836574            5.610267  \n",
       "75%            1746.081251            6.600503  \n",
       "max            1989.829247           11.820038  "
      ]
     },
     "execution_count": 11,
     "metadata": {},
     "output_type": "execute_result"
    }
   ],
   "source": [
    "dfProd.describe()"
   ]
  },
  {
   "cell_type": "code",
   "execution_count": 12,
   "id": "undefined-faith",
   "metadata": {},
   "outputs": [
    {
     "data": {
      "text/plain": [
       "Well_ID                            0\n",
       "X, m                               0\n",
       "Y, m                               0\n",
       "Depth, m                           0\n",
       "Porosity, fraction               192\n",
       "Permeability, mD                1176\n",
       "Acoustic Impedance, kg*s/m^2     103\n",
       "Rock facies                      130\n",
       "Density, g/cm3                   212\n",
       "Compressible velocity, m/s       184\n",
       "Youngs modulus, GPa              199\n",
       "Shear velocity, m/s              190\n",
       "Shear modulus, GPa               175\n",
       "dtype: int64"
      ]
     },
     "execution_count": 12,
     "metadata": {},
     "output_type": "execute_result"
    }
   ],
   "source": [
    "dfProd.isna().sum()"
   ]
  },
  {
   "cell_type": "code",
   "execution_count": 13,
   "id": "expanded-presentation",
   "metadata": {},
   "outputs": [],
   "source": [
    "X = dfProd.drop(\"Well_ID\", axis=1)"
   ]
  },
  {
   "cell_type": "code",
   "execution_count": 14,
   "id": "accurate-birmingham",
   "metadata": {},
   "outputs": [],
   "source": [
    "dfProdimputed = pd.DataFrame(imputer.fit_transform(X), columns = X.columns)"
   ]
  },
  {
   "cell_type": "code",
   "execution_count": 15,
   "id": "occupied-cutting",
   "metadata": {},
   "outputs": [],
   "source": [
    "dfProduced = pd.read_csv(r\"..\\prod_data\\production_history.csv\")"
   ]
  },
  {
   "cell_type": "code",
   "execution_count": 16,
   "id": "aging-confidentiality",
   "metadata": {},
   "outputs": [],
   "source": [
    "dfProduced[\"Well_ID\"] = dfProduced[\"Well_ID\"].str[8:].astype(int)"
   ]
  },
  {
   "cell_type": "code",
   "execution_count": 17,
   "id": "arctic-artwork",
   "metadata": {},
   "outputs": [],
   "source": [
    "dfWells = dfProd.groupby(dfProd[\"Well_ID\"]).mean()"
   ]
  },
  {
   "cell_type": "code",
   "execution_count": 20,
   "id": "rolled-vancouver",
   "metadata": {},
   "outputs": [],
   "source": [
    "a = dfWells.reset_index()\n",
    "b = dfProduced.reset_index()"
   ]
  },
  {
   "cell_type": "code",
   "execution_count": 21,
   "id": "described-night",
   "metadata": {},
   "outputs": [],
   "source": [
    "dfProd_indexed = dfProduced.set_index(\"Well_ID\")"
   ]
  },
  {
   "cell_type": "code",
   "execution_count": 22,
   "id": "threatened-bundle",
   "metadata": {},
   "outputs": [],
   "source": [
    "dfProdFull = pd.concat([dfWells, dfProd_indexed], axis=1)"
   ]
  },
  {
   "cell_type": "code",
   "execution_count": 103,
   "id": "metric-cylinder",
   "metadata": {},
   "outputs": [
    {
     "data": {
      "text/html": [
       "<div>\n",
       "<style scoped>\n",
       "    .dataframe tbody tr th:only-of-type {\n",
       "        vertical-align: middle;\n",
       "    }\n",
       "\n",
       "    .dataframe tbody tr th {\n",
       "        vertical-align: top;\n",
       "    }\n",
       "\n",
       "    .dataframe thead th {\n",
       "        text-align: right;\n",
       "    }\n",
       "</style>\n",
       "<table border=\"1\" class=\"dataframe\">\n",
       "  <thead>\n",
       "    <tr style=\"text-align: right;\">\n",
       "      <th></th>\n",
       "      <th>X, m</th>\n",
       "      <th>Y, m</th>\n",
       "      <th>Depth, m</th>\n",
       "      <th>Porosity, fraction</th>\n",
       "      <th>Permeability, mD</th>\n",
       "      <th>Acoustic Impedance, kg*s/m^2</th>\n",
       "      <th>Rock facies</th>\n",
       "      <th>Density, g/cm3</th>\n",
       "      <th>Compressible velocity, m/s</th>\n",
       "      <th>Youngs modulus, GPa</th>\n",
       "      <th>Shear velocity, m/s</th>\n",
       "      <th>Shear modulus, GPa</th>\n",
       "      <th>Cumulative oil production (3 yr), MSTB</th>\n",
       "    </tr>\n",
       "  </thead>\n",
       "  <tbody>\n",
       "    <tr>\n",
       "      <th>X, m</th>\n",
       "      <td>1.000000</td>\n",
       "      <td>0.457665</td>\n",
       "      <td>-0.093746</td>\n",
       "      <td>0.293142</td>\n",
       "      <td>0.254115</td>\n",
       "      <td>-0.338710</td>\n",
       "      <td>0.538345</td>\n",
       "      <td>0.520609</td>\n",
       "      <td>-0.531674</td>\n",
       "      <td>-0.502162</td>\n",
       "      <td>-0.070208</td>\n",
       "      <td>0.434179</td>\n",
       "      <td>0.222396</td>\n",
       "    </tr>\n",
       "    <tr>\n",
       "      <th>Y, m</th>\n",
       "      <td>0.457665</td>\n",
       "      <td>1.000000</td>\n",
       "      <td>0.112255</td>\n",
       "      <td>0.238360</td>\n",
       "      <td>0.158341</td>\n",
       "      <td>-0.264973</td>\n",
       "      <td>0.385094</td>\n",
       "      <td>0.510437</td>\n",
       "      <td>-0.500309</td>\n",
       "      <td>-0.489815</td>\n",
       "      <td>-0.020894</td>\n",
       "      <td>0.384918</td>\n",
       "      <td>0.037999</td>\n",
       "    </tr>\n",
       "    <tr>\n",
       "      <th>Depth, m</th>\n",
       "      <td>-0.093746</td>\n",
       "      <td>0.112255</td>\n",
       "      <td>1.000000</td>\n",
       "      <td>-0.175716</td>\n",
       "      <td>-0.217101</td>\n",
       "      <td>0.188775</td>\n",
       "      <td>-0.175619</td>\n",
       "      <td>-0.162886</td>\n",
       "      <td>0.276573</td>\n",
       "      <td>0.269352</td>\n",
       "      <td>-0.146121</td>\n",
       "      <td>-0.175220</td>\n",
       "      <td>-0.486005</td>\n",
       "    </tr>\n",
       "    <tr>\n",
       "      <th>Porosity, fraction</th>\n",
       "      <td>0.293142</td>\n",
       "      <td>0.238360</td>\n",
       "      <td>-0.175716</td>\n",
       "      <td>1.000000</td>\n",
       "      <td>0.657208</td>\n",
       "      <td>-0.890418</td>\n",
       "      <td>0.862297</td>\n",
       "      <td>0.243881</td>\n",
       "      <td>-0.467441</td>\n",
       "      <td>-0.541068</td>\n",
       "      <td>-0.001359</td>\n",
       "      <td>0.177810</td>\n",
       "      <td>0.763920</td>\n",
       "    </tr>\n",
       "    <tr>\n",
       "      <th>Permeability, mD</th>\n",
       "      <td>0.254115</td>\n",
       "      <td>0.158341</td>\n",
       "      <td>-0.217101</td>\n",
       "      <td>0.657208</td>\n",
       "      <td>1.000000</td>\n",
       "      <td>-0.716629</td>\n",
       "      <td>0.558934</td>\n",
       "      <td>0.277257</td>\n",
       "      <td>-0.449660</td>\n",
       "      <td>-0.518060</td>\n",
       "      <td>-0.134847</td>\n",
       "      <td>0.290709</td>\n",
       "      <td>0.692084</td>\n",
       "    </tr>\n",
       "    <tr>\n",
       "      <th>Acoustic Impedance, kg*s/m^2</th>\n",
       "      <td>-0.338710</td>\n",
       "      <td>-0.264973</td>\n",
       "      <td>0.188775</td>\n",
       "      <td>-0.890418</td>\n",
       "      <td>-0.716629</td>\n",
       "      <td>1.000000</td>\n",
       "      <td>-0.848267</td>\n",
       "      <td>-0.263932</td>\n",
       "      <td>0.475904</td>\n",
       "      <td>0.562357</td>\n",
       "      <td>0.051557</td>\n",
       "      <td>-0.170844</td>\n",
       "      <td>-0.722983</td>\n",
       "    </tr>\n",
       "    <tr>\n",
       "      <th>Rock facies</th>\n",
       "      <td>0.538345</td>\n",
       "      <td>0.385094</td>\n",
       "      <td>-0.175619</td>\n",
       "      <td>0.862297</td>\n",
       "      <td>0.558934</td>\n",
       "      <td>-0.848267</td>\n",
       "      <td>1.000000</td>\n",
       "      <td>0.449704</td>\n",
       "      <td>-0.568906</td>\n",
       "      <td>-0.660525</td>\n",
       "      <td>-0.041267</td>\n",
       "      <td>0.353018</td>\n",
       "      <td>0.643482</td>\n",
       "    </tr>\n",
       "    <tr>\n",
       "      <th>Density, g/cm3</th>\n",
       "      <td>0.520609</td>\n",
       "      <td>0.510437</td>\n",
       "      <td>-0.162886</td>\n",
       "      <td>0.243881</td>\n",
       "      <td>0.277257</td>\n",
       "      <td>-0.263932</td>\n",
       "      <td>0.449704</td>\n",
       "      <td>1.000000</td>\n",
       "      <td>-0.873507</td>\n",
       "      <td>-0.862518</td>\n",
       "      <td>0.071725</td>\n",
       "      <td>0.819730</td>\n",
       "      <td>0.193598</td>\n",
       "    </tr>\n",
       "    <tr>\n",
       "      <th>Compressible velocity, m/s</th>\n",
       "      <td>-0.531674</td>\n",
       "      <td>-0.500309</td>\n",
       "      <td>0.276573</td>\n",
       "      <td>-0.467441</td>\n",
       "      <td>-0.449660</td>\n",
       "      <td>0.475904</td>\n",
       "      <td>-0.568906</td>\n",
       "      <td>-0.873507</td>\n",
       "      <td>1.000000</td>\n",
       "      <td>0.883706</td>\n",
       "      <td>-0.159817</td>\n",
       "      <td>-0.757241</td>\n",
       "      <td>-0.425556</td>\n",
       "    </tr>\n",
       "    <tr>\n",
       "      <th>Youngs modulus, GPa</th>\n",
       "      <td>-0.502162</td>\n",
       "      <td>-0.489815</td>\n",
       "      <td>0.269352</td>\n",
       "      <td>-0.541068</td>\n",
       "      <td>-0.518060</td>\n",
       "      <td>0.562357</td>\n",
       "      <td>-0.660525</td>\n",
       "      <td>-0.862518</td>\n",
       "      <td>0.883706</td>\n",
       "      <td>1.000000</td>\n",
       "      <td>-0.079031</td>\n",
       "      <td>-0.717516</td>\n",
       "      <td>-0.444470</td>\n",
       "    </tr>\n",
       "    <tr>\n",
       "      <th>Shear velocity, m/s</th>\n",
       "      <td>-0.070208</td>\n",
       "      <td>-0.020894</td>\n",
       "      <td>-0.146121</td>\n",
       "      <td>-0.001359</td>\n",
       "      <td>-0.134847</td>\n",
       "      <td>0.051557</td>\n",
       "      <td>-0.041267</td>\n",
       "      <td>0.071725</td>\n",
       "      <td>-0.159817</td>\n",
       "      <td>-0.079031</td>\n",
       "      <td>1.000000</td>\n",
       "      <td>0.128101</td>\n",
       "      <td>0.064116</td>\n",
       "    </tr>\n",
       "    <tr>\n",
       "      <th>Shear modulus, GPa</th>\n",
       "      <td>0.434179</td>\n",
       "      <td>0.384918</td>\n",
       "      <td>-0.175220</td>\n",
       "      <td>0.177810</td>\n",
       "      <td>0.290709</td>\n",
       "      <td>-0.170844</td>\n",
       "      <td>0.353018</td>\n",
       "      <td>0.819730</td>\n",
       "      <td>-0.757241</td>\n",
       "      <td>-0.717516</td>\n",
       "      <td>0.128101</td>\n",
       "      <td>1.000000</td>\n",
       "      <td>0.242836</td>\n",
       "    </tr>\n",
       "    <tr>\n",
       "      <th>Cumulative oil production (3 yr), MSTB</th>\n",
       "      <td>0.222396</td>\n",
       "      <td>0.037999</td>\n",
       "      <td>-0.486005</td>\n",
       "      <td>0.763920</td>\n",
       "      <td>0.692084</td>\n",
       "      <td>-0.722983</td>\n",
       "      <td>0.643482</td>\n",
       "      <td>0.193598</td>\n",
       "      <td>-0.425556</td>\n",
       "      <td>-0.444470</td>\n",
       "      <td>0.064116</td>\n",
       "      <td>0.242836</td>\n",
       "      <td>1.000000</td>\n",
       "    </tr>\n",
       "  </tbody>\n",
       "</table>\n",
       "</div>"
      ],
      "text/plain": [
       "                                            X, m      Y, m  Depth, m  \\\n",
       "X, m                                    1.000000  0.457665 -0.093746   \n",
       "Y, m                                    0.457665  1.000000  0.112255   \n",
       "Depth, m                               -0.093746  0.112255  1.000000   \n",
       "Porosity, fraction                      0.293142  0.238360 -0.175716   \n",
       "Permeability, mD                        0.254115  0.158341 -0.217101   \n",
       "Acoustic Impedance, kg*s/m^2           -0.338710 -0.264973  0.188775   \n",
       "Rock facies                             0.538345  0.385094 -0.175619   \n",
       "Density, g/cm3                          0.520609  0.510437 -0.162886   \n",
       "Compressible velocity, m/s             -0.531674 -0.500309  0.276573   \n",
       "Youngs modulus, GPa                    -0.502162 -0.489815  0.269352   \n",
       "Shear velocity, m/s                    -0.070208 -0.020894 -0.146121   \n",
       "Shear modulus, GPa                      0.434179  0.384918 -0.175220   \n",
       "Cumulative oil production (3 yr), MSTB  0.222396  0.037999 -0.486005   \n",
       "\n",
       "                                        Porosity, fraction  Permeability, mD  \\\n",
       "X, m                                              0.293142          0.254115   \n",
       "Y, m                                              0.238360          0.158341   \n",
       "Depth, m                                         -0.175716         -0.217101   \n",
       "Porosity, fraction                                1.000000          0.657208   \n",
       "Permeability, mD                                  0.657208          1.000000   \n",
       "Acoustic Impedance, kg*s/m^2                     -0.890418         -0.716629   \n",
       "Rock facies                                       0.862297          0.558934   \n",
       "Density, g/cm3                                    0.243881          0.277257   \n",
       "Compressible velocity, m/s                       -0.467441         -0.449660   \n",
       "Youngs modulus, GPa                              -0.541068         -0.518060   \n",
       "Shear velocity, m/s                              -0.001359         -0.134847   \n",
       "Shear modulus, GPa                                0.177810          0.290709   \n",
       "Cumulative oil production (3 yr), MSTB            0.763920          0.692084   \n",
       "\n",
       "                                        Acoustic Impedance, kg*s/m^2  \\\n",
       "X, m                                                       -0.338710   \n",
       "Y, m                                                       -0.264973   \n",
       "Depth, m                                                    0.188775   \n",
       "Porosity, fraction                                         -0.890418   \n",
       "Permeability, mD                                           -0.716629   \n",
       "Acoustic Impedance, kg*s/m^2                                1.000000   \n",
       "Rock facies                                                -0.848267   \n",
       "Density, g/cm3                                             -0.263932   \n",
       "Compressible velocity, m/s                                  0.475904   \n",
       "Youngs modulus, GPa                                         0.562357   \n",
       "Shear velocity, m/s                                         0.051557   \n",
       "Shear modulus, GPa                                         -0.170844   \n",
       "Cumulative oil production (3 yr), MSTB                     -0.722983   \n",
       "\n",
       "                                        Rock facies  Density, g/cm3  \\\n",
       "X, m                                       0.538345        0.520609   \n",
       "Y, m                                       0.385094        0.510437   \n",
       "Depth, m                                  -0.175619       -0.162886   \n",
       "Porosity, fraction                         0.862297        0.243881   \n",
       "Permeability, mD                           0.558934        0.277257   \n",
       "Acoustic Impedance, kg*s/m^2              -0.848267       -0.263932   \n",
       "Rock facies                                1.000000        0.449704   \n",
       "Density, g/cm3                             0.449704        1.000000   \n",
       "Compressible velocity, m/s                -0.568906       -0.873507   \n",
       "Youngs modulus, GPa                       -0.660525       -0.862518   \n",
       "Shear velocity, m/s                       -0.041267        0.071725   \n",
       "Shear modulus, GPa                         0.353018        0.819730   \n",
       "Cumulative oil production (3 yr), MSTB     0.643482        0.193598   \n",
       "\n",
       "                                        Compressible velocity, m/s  \\\n",
       "X, m                                                     -0.531674   \n",
       "Y, m                                                     -0.500309   \n",
       "Depth, m                                                  0.276573   \n",
       "Porosity, fraction                                       -0.467441   \n",
       "Permeability, mD                                         -0.449660   \n",
       "Acoustic Impedance, kg*s/m^2                              0.475904   \n",
       "Rock facies                                              -0.568906   \n",
       "Density, g/cm3                                           -0.873507   \n",
       "Compressible velocity, m/s                                1.000000   \n",
       "Youngs modulus, GPa                                       0.883706   \n",
       "Shear velocity, m/s                                      -0.159817   \n",
       "Shear modulus, GPa                                       -0.757241   \n",
       "Cumulative oil production (3 yr), MSTB                   -0.425556   \n",
       "\n",
       "                                        Youngs modulus, GPa  \\\n",
       "X, m                                              -0.502162   \n",
       "Y, m                                              -0.489815   \n",
       "Depth, m                                           0.269352   \n",
       "Porosity, fraction                                -0.541068   \n",
       "Permeability, mD                                  -0.518060   \n",
       "Acoustic Impedance, kg*s/m^2                       0.562357   \n",
       "Rock facies                                       -0.660525   \n",
       "Density, g/cm3                                    -0.862518   \n",
       "Compressible velocity, m/s                         0.883706   \n",
       "Youngs modulus, GPa                                1.000000   \n",
       "Shear velocity, m/s                               -0.079031   \n",
       "Shear modulus, GPa                                -0.717516   \n",
       "Cumulative oil production (3 yr), MSTB            -0.444470   \n",
       "\n",
       "                                        Shear velocity, m/s  \\\n",
       "X, m                                              -0.070208   \n",
       "Y, m                                              -0.020894   \n",
       "Depth, m                                          -0.146121   \n",
       "Porosity, fraction                                -0.001359   \n",
       "Permeability, mD                                  -0.134847   \n",
       "Acoustic Impedance, kg*s/m^2                       0.051557   \n",
       "Rock facies                                       -0.041267   \n",
       "Density, g/cm3                                     0.071725   \n",
       "Compressible velocity, m/s                        -0.159817   \n",
       "Youngs modulus, GPa                               -0.079031   \n",
       "Shear velocity, m/s                                1.000000   \n",
       "Shear modulus, GPa                                 0.128101   \n",
       "Cumulative oil production (3 yr), MSTB             0.064116   \n",
       "\n",
       "                                        Shear modulus, GPa  \\\n",
       "X, m                                              0.434179   \n",
       "Y, m                                              0.384918   \n",
       "Depth, m                                         -0.175220   \n",
       "Porosity, fraction                                0.177810   \n",
       "Permeability, mD                                  0.290709   \n",
       "Acoustic Impedance, kg*s/m^2                     -0.170844   \n",
       "Rock facies                                       0.353018   \n",
       "Density, g/cm3                                    0.819730   \n",
       "Compressible velocity, m/s                       -0.757241   \n",
       "Youngs modulus, GPa                              -0.717516   \n",
       "Shear velocity, m/s                               0.128101   \n",
       "Shear modulus, GPa                                1.000000   \n",
       "Cumulative oil production (3 yr), MSTB            0.242836   \n",
       "\n",
       "                                        Cumulative oil production (3 yr), MSTB  \n",
       "X, m                                                                  0.222396  \n",
       "Y, m                                                                  0.037999  \n",
       "Depth, m                                                             -0.486005  \n",
       "Porosity, fraction                                                    0.763920  \n",
       "Permeability, mD                                                      0.692084  \n",
       "Acoustic Impedance, kg*s/m^2                                         -0.722983  \n",
       "Rock facies                                                           0.643482  \n",
       "Density, g/cm3                                                        0.193598  \n",
       "Compressible velocity, m/s                                           -0.425556  \n",
       "Youngs modulus, GPa                                                  -0.444470  \n",
       "Shear velocity, m/s                                                   0.064116  \n",
       "Shear modulus, GPa                                                    0.242836  \n",
       "Cumulative oil production (3 yr), MSTB                                1.000000  "
      ]
     },
     "execution_count": 103,
     "metadata": {},
     "output_type": "execute_result"
    }
   ],
   "source": [
    "unneeded = [\"Cumulative oil production (1 yr), MSTB\", \n",
    "              \"Cumulative oil production (2 yr), MSTB\",\n",
    "              \"Cumulative Water production (1 yr), MSTB\", \n",
    "              \"Cumulative Water production (2 yr), MSTB\", \n",
    "              \"Cumulative Water production (3 yr), MSTB\"]\n",
    "dfProdFinal = dfProdFull.drop(unneeded, axis=1)\n",
    "dfProdFinal.corr()"
   ]
  },
  {
   "cell_type": "code",
   "execution_count": 24,
   "id": "killing-massachusetts",
   "metadata": {},
   "outputs": [],
   "source": [
    "droppedColumns = [\"Cumulative oil production (1 yr), MSTB\", \n",
    "                  \"Cumulative oil production (2 yr), MSTB\", \n",
    "                  \"Cumulative oil production (3 yr), MSTB\",\n",
    "                  \"Cumulative Water production (1 yr), MSTB\", \n",
    "                  \"Cumulative Water production (2 yr), MSTB\", \n",
    "                  \"Cumulative Water production (3 yr), MSTB\"]\n",
    "X = dfProdFull.drop(droppedColumns, axis=1)\n",
    "y = dfProdFull[\"Cumulative oil production (3 yr), MSTB\"]"
   ]
  },
  {
   "cell_type": "code",
   "execution_count": 78,
   "id": "christian-pension",
   "metadata": {},
   "outputs": [
    {
     "data": {
      "text/html": [
       "<div>\n",
       "<style scoped>\n",
       "    .dataframe tbody tr th:only-of-type {\n",
       "        vertical-align: middle;\n",
       "    }\n",
       "\n",
       "    .dataframe tbody tr th {\n",
       "        vertical-align: top;\n",
       "    }\n",
       "\n",
       "    .dataframe thead th {\n",
       "        text-align: right;\n",
       "    }\n",
       "</style>\n",
       "<table border=\"1\" class=\"dataframe\">\n",
       "  <thead>\n",
       "    <tr style=\"text-align: right;\">\n",
       "      <th></th>\n",
       "      <th>X, m</th>\n",
       "      <th>Y, m</th>\n",
       "      <th>Depth, m</th>\n",
       "      <th>Porosity, fraction</th>\n",
       "      <th>Permeability, mD</th>\n",
       "      <th>Acoustic Impedance, kg*s/m^2</th>\n",
       "      <th>Rock facies</th>\n",
       "      <th>Density, g/cm3</th>\n",
       "      <th>Compressible velocity, m/s</th>\n",
       "      <th>Youngs modulus, GPa</th>\n",
       "      <th>Shear velocity, m/s</th>\n",
       "      <th>Shear modulus, GPa</th>\n",
       "    </tr>\n",
       "    <tr>\n",
       "      <th>Well_ID</th>\n",
       "      <th></th>\n",
       "      <th></th>\n",
       "      <th></th>\n",
       "      <th></th>\n",
       "      <th></th>\n",
       "      <th></th>\n",
       "      <th></th>\n",
       "      <th></th>\n",
       "      <th></th>\n",
       "      <th></th>\n",
       "      <th></th>\n",
       "      <th></th>\n",
       "    </tr>\n",
       "  </thead>\n",
       "  <tbody>\n",
       "    <tr>\n",
       "      <th>1</th>\n",
       "      <td>7325</td>\n",
       "      <td>7175</td>\n",
       "      <td>3057.55</td>\n",
       "      <td>0.133426</td>\n",
       "      <td>189.116974</td>\n",
       "      <td>7.232823e+06</td>\n",
       "      <td>3.600000</td>\n",
       "      <td>2.141876</td>\n",
       "      <td>3392.897466</td>\n",
       "      <td>25.674891</td>\n",
       "      <td>1656.844649</td>\n",
       "      <td>6.357954</td>\n",
       "    </tr>\n",
       "    <tr>\n",
       "      <th>2</th>\n",
       "      <td>4225</td>\n",
       "      <td>3525</td>\n",
       "      <td>3052.54</td>\n",
       "      <td>0.128885</td>\n",
       "      <td>176.367428</td>\n",
       "      <td>7.323769e+06</td>\n",
       "      <td>3.157895</td>\n",
       "      <td>2.064860</td>\n",
       "      <td>3514.562352</td>\n",
       "      <td>25.284289</td>\n",
       "      <td>1673.452546</td>\n",
       "      <td>6.436651</td>\n",
       "    </tr>\n",
       "    <tr>\n",
       "      <th>3</th>\n",
       "      <td>7725</td>\n",
       "      <td>8275</td>\n",
       "      <td>3060.67</td>\n",
       "      <td>0.118062</td>\n",
       "      <td>119.421584</td>\n",
       "      <td>7.340299e+06</td>\n",
       "      <td>3.133333</td>\n",
       "      <td>1.951313</td>\n",
       "      <td>3972.826143</td>\n",
       "      <td>27.938946</td>\n",
       "      <td>1676.017976</td>\n",
       "      <td>5.699668</td>\n",
       "    </tr>\n",
       "    <tr>\n",
       "      <th>4</th>\n",
       "      <td>4425</td>\n",
       "      <td>6475</td>\n",
       "      <td>3051.61</td>\n",
       "      <td>0.138111</td>\n",
       "      <td>151.595670</td>\n",
       "      <td>7.302308e+06</td>\n",
       "      <td>3.500000</td>\n",
       "      <td>1.910705</td>\n",
       "      <td>3675.865373</td>\n",
       "      <td>27.021138</td>\n",
       "      <td>1651.691173</td>\n",
       "      <td>5.432418</td>\n",
       "    </tr>\n",
       "    <tr>\n",
       "      <th>5</th>\n",
       "      <td>2125</td>\n",
       "      <td>1225</td>\n",
       "      <td>3060.45</td>\n",
       "      <td>0.130910</td>\n",
       "      <td>123.891145</td>\n",
       "      <td>7.346910e+06</td>\n",
       "      <td>3.000000</td>\n",
       "      <td>1.917131</td>\n",
       "      <td>3790.337407</td>\n",
       "      <td>27.761162</td>\n",
       "      <td>1709.912999</td>\n",
       "      <td>5.262329</td>\n",
       "    </tr>\n",
       "    <tr>\n",
       "      <th>...</th>\n",
       "      <td>...</td>\n",
       "      <td>...</td>\n",
       "      <td>...</td>\n",
       "      <td>...</td>\n",
       "      <td>...</td>\n",
       "      <td>...</td>\n",
       "      <td>...</td>\n",
       "      <td>...</td>\n",
       "      <td>...</td>\n",
       "      <td>...</td>\n",
       "      <td>...</td>\n",
       "      <td>...</td>\n",
       "    </tr>\n",
       "    <tr>\n",
       "      <th>69</th>\n",
       "      <td>3375</td>\n",
       "      <td>775</td>\n",
       "      <td>3059.64</td>\n",
       "      <td>0.124074</td>\n",
       "      <td>166.810299</td>\n",
       "      <td>7.418335e+06</td>\n",
       "      <td>3.000000</td>\n",
       "      <td>1.907549</td>\n",
       "      <td>3996.551094</td>\n",
       "      <td>29.141045</td>\n",
       "      <td>1677.668722</td>\n",
       "      <td>5.317462</td>\n",
       "    </tr>\n",
       "    <tr>\n",
       "      <th>70</th>\n",
       "      <td>3575</td>\n",
       "      <td>9775</td>\n",
       "      <td>3060.30</td>\n",
       "      <td>0.139168</td>\n",
       "      <td>201.311447</td>\n",
       "      <td>7.273654e+06</td>\n",
       "      <td>3.315789</td>\n",
       "      <td>2.306208</td>\n",
       "      <td>3308.578249</td>\n",
       "      <td>25.009714</td>\n",
       "      <td>1682.541663</td>\n",
       "      <td>6.593852</td>\n",
       "    </tr>\n",
       "    <tr>\n",
       "      <th>71</th>\n",
       "      <td>6975</td>\n",
       "      <td>6525</td>\n",
       "      <td>3055.04</td>\n",
       "      <td>0.133675</td>\n",
       "      <td>105.286049</td>\n",
       "      <td>7.220738e+06</td>\n",
       "      <td>3.450000</td>\n",
       "      <td>2.086910</td>\n",
       "      <td>3649.363331</td>\n",
       "      <td>27.553182</td>\n",
       "      <td>1655.008020</td>\n",
       "      <td>5.247501</td>\n",
       "    </tr>\n",
       "    <tr>\n",
       "      <th>72</th>\n",
       "      <td>3825</td>\n",
       "      <td>2625</td>\n",
       "      <td>3055.11</td>\n",
       "      <td>0.109639</td>\n",
       "      <td>48.529438</td>\n",
       "      <td>7.461042e+06</td>\n",
       "      <td>2.555556</td>\n",
       "      <td>1.959684</td>\n",
       "      <td>3899.275259</td>\n",
       "      <td>29.041203</td>\n",
       "      <td>1687.199686</td>\n",
       "      <td>5.762140</td>\n",
       "    </tr>\n",
       "    <tr>\n",
       "      <th>73</th>\n",
       "      <td>7975</td>\n",
       "      <td>7525</td>\n",
       "      <td>3059.89</td>\n",
       "      <td>0.129752</td>\n",
       "      <td>101.693127</td>\n",
       "      <td>7.330928e+06</td>\n",
       "      <td>3.105263</td>\n",
       "      <td>1.988591</td>\n",
       "      <td>3758.822664</td>\n",
       "      <td>28.090121</td>\n",
       "      <td>1633.812156</td>\n",
       "      <td>5.131624</td>\n",
       "    </tr>\n",
       "  </tbody>\n",
       "</table>\n",
       "<p>73 rows × 12 columns</p>\n",
       "</div>"
      ],
      "text/plain": [
       "         X, m  Y, m  Depth, m  Porosity, fraction  Permeability, mD  \\\n",
       "Well_ID                                                               \n",
       "1        7325  7175   3057.55            0.133426        189.116974   \n",
       "2        4225  3525   3052.54            0.128885        176.367428   \n",
       "3        7725  8275   3060.67            0.118062        119.421584   \n",
       "4        4425  6475   3051.61            0.138111        151.595670   \n",
       "5        2125  1225   3060.45            0.130910        123.891145   \n",
       "...       ...   ...       ...                 ...               ...   \n",
       "69       3375   775   3059.64            0.124074        166.810299   \n",
       "70       3575  9775   3060.30            0.139168        201.311447   \n",
       "71       6975  6525   3055.04            0.133675        105.286049   \n",
       "72       3825  2625   3055.11            0.109639         48.529438   \n",
       "73       7975  7525   3059.89            0.129752        101.693127   \n",
       "\n",
       "         Acoustic Impedance, kg*s/m^2  Rock facies  Density, g/cm3  \\\n",
       "Well_ID                                                              \n",
       "1                        7.232823e+06     3.600000        2.141876   \n",
       "2                        7.323769e+06     3.157895        2.064860   \n",
       "3                        7.340299e+06     3.133333        1.951313   \n",
       "4                        7.302308e+06     3.500000        1.910705   \n",
       "5                        7.346910e+06     3.000000        1.917131   \n",
       "...                               ...          ...             ...   \n",
       "69                       7.418335e+06     3.000000        1.907549   \n",
       "70                       7.273654e+06     3.315789        2.306208   \n",
       "71                       7.220738e+06     3.450000        2.086910   \n",
       "72                       7.461042e+06     2.555556        1.959684   \n",
       "73                       7.330928e+06     3.105263        1.988591   \n",
       "\n",
       "         Compressible velocity, m/s  Youngs modulus, GPa  Shear velocity, m/s  \\\n",
       "Well_ID                                                                         \n",
       "1                       3392.897466            25.674891          1656.844649   \n",
       "2                       3514.562352            25.284289          1673.452546   \n",
       "3                       3972.826143            27.938946          1676.017976   \n",
       "4                       3675.865373            27.021138          1651.691173   \n",
       "5                       3790.337407            27.761162          1709.912999   \n",
       "...                             ...                  ...                  ...   \n",
       "69                      3996.551094            29.141045          1677.668722   \n",
       "70                      3308.578249            25.009714          1682.541663   \n",
       "71                      3649.363331            27.553182          1655.008020   \n",
       "72                      3899.275259            29.041203          1687.199686   \n",
       "73                      3758.822664            28.090121          1633.812156   \n",
       "\n",
       "         Shear modulus, GPa  \n",
       "Well_ID                      \n",
       "1                  6.357954  \n",
       "2                  6.436651  \n",
       "3                  5.699668  \n",
       "4                  5.432418  \n",
       "5                  5.262329  \n",
       "...                     ...  \n",
       "69                 5.317462  \n",
       "70                 6.593852  \n",
       "71                 5.247501  \n",
       "72                 5.762140  \n",
       "73                 5.131624  \n",
       "\n",
       "[73 rows x 12 columns]"
      ]
     },
     "execution_count": 78,
     "metadata": {},
     "output_type": "execute_result"
    }
   ],
   "source": [
    "X"
   ]
  },
  {
   "cell_type": "code",
   "execution_count": 87,
   "id": "billion-watson",
   "metadata": {},
   "outputs": [],
   "source": [
    "train_X, test_X, train_y, test_y = train_test_split(X, y, random_state=1)"
   ]
  },
  {
   "cell_type": "markdown",
   "id": "qualified-massage",
   "metadata": {},
   "source": [
    "## XGB Regression"
   ]
  },
  {
   "cell_type": "code",
   "execution_count": 88,
   "id": "annoying-comparative",
   "metadata": {},
   "outputs": [],
   "source": [
    "model = xgb.XGBRFRegressor(random_state=1)"
   ]
  },
  {
   "cell_type": "code",
   "execution_count": 89,
   "id": "younger-spring",
   "metadata": {},
   "outputs": [
    {
     "data": {
      "text/plain": [
       "XGBRFRegressor(base_score=0.5, booster='gbtree', colsample_bylevel=1,\n",
       "               colsample_bytree=1, gamma=0, gpu_id=-1, importance_type='gain',\n",
       "               interaction_constraints='', max_delta_step=0, max_depth=6,\n",
       "               min_child_weight=1, missing=nan, monotone_constraints='()',\n",
       "               n_estimators=100, n_jobs=12, num_parallel_tree=100,\n",
       "               objective='reg:squarederror', random_state=1, reg_alpha=0,\n",
       "               scale_pos_weight=1, tree_method='exact', validate_parameters=1,\n",
       "               verbosity=None)"
      ]
     },
     "execution_count": 89,
     "metadata": {},
     "output_type": "execute_result"
    }
   ],
   "source": [
    "model.fit(train_X, train_y)"
   ]
  },
  {
   "cell_type": "code",
   "execution_count": 90,
   "id": "annoying-angola",
   "metadata": {},
   "outputs": [],
   "source": [
    "preds = model.predict(test_X)"
   ]
  },
  {
   "cell_type": "code",
   "execution_count": 91,
   "id": "active-poetry",
   "metadata": {},
   "outputs": [
    {
     "data": {
      "text/plain": [
       "<matplotlib.collections.PathCollection at 0x1d2b8299c10>"
      ]
     },
     "execution_count": 91,
     "metadata": {},
     "output_type": "execute_result"
    },
    {
     "data": {
      "image/png": "[encoded data removed]",
      "text/plain": [
       "<Figure size 432x288 with 1 Axes>"
      ]
     },
     "metadata": {
      "needs_background": "light"
     },
     "output_type": "display_data"
    }
   ],
   "source": [
    "plt.scatter(preds, test_y)"
   ]
  },
  {
   "cell_type": "code",
   "execution_count": 92,
   "id": "exact-vintage",
   "metadata": {},
   "outputs": [],
   "source": [
    "mae = mean_absolute_error(preds, test_y)"
   ]
  },
  {
   "cell_type": "code",
   "execution_count": 93,
   "id": "built-rotation",
   "metadata": {},
   "outputs": [
    {
     "name": "stdout",
     "output_type": "stream",
     "text": [
      "287.3131459446957\n"
     ]
    }
   ],
   "source": [
    "print(mae)"
   ]
  },
  {
   "cell_type": "code",
   "execution_count": 94,
   "id": "eastern-pickup",
   "metadata": {},
   "outputs": [
    {
     "data": {
      "text/plain": [
       "1093.101052631579"
      ]
     },
     "execution_count": 94,
     "metadata": {},
     "output_type": "execute_result"
    }
   ],
   "source": [
    "test_y.mean()"
   ]
  },
  {
   "cell_type": "code",
   "execution_count": 95,
   "id": "missing-maine",
   "metadata": {},
   "outputs": [
    {
     "name": "stdout",
     "output_type": "stream",
     "text": [
      "Percent Error:  0.2628422553001898\n"
     ]
    }
   ],
   "source": [
    "print(\"Percent Error: \", mae/test_y.mean())"
   ]
  },
  {
   "cell_type": "markdown",
   "id": "abstract-equipment",
   "metadata": {},
   "source": [
    "## Linear Regression"
   ]
  },
  {
   "cell_type": "code",
   "execution_count": 96,
   "id": "better-finish",
   "metadata": {},
   "outputs": [],
   "source": [
    "X_no_depth = X.drop(\"Depth, m\", axis=1)"
   ]
  },
  {
   "cell_type": "code",
   "execution_count": 97,
   "id": "apart-honor",
   "metadata": {},
   "outputs": [],
   "source": [
    "train_X_no_depth, test_X_no_depth, train_y, test_y = train_test_split(X_no_depth, y, random_state=1)"
   ]
  },
  {
   "cell_type": "code",
   "execution_count": 98,
   "id": "adopted-constitutional",
   "metadata": {},
   "outputs": [],
   "source": [
    "lin_model = LinearRegression()"
   ]
  },
  {
   "cell_type": "code",
   "execution_count": 99,
   "id": "seven-binding",
   "metadata": {},
   "outputs": [
    {
     "data": {
      "text/plain": [
       "LinearRegression()"
      ]
     },
     "execution_count": 99,
     "metadata": {},
     "output_type": "execute_result"
    }
   ],
   "source": [
    "lin_model.fit(train_X_no_depth, train_y)"
   ]
  },
  {
   "cell_type": "code",
   "execution_count": 100,
   "id": "accomplished-bandwidth",
   "metadata": {},
   "outputs": [],
   "source": [
    "lin_preds = lin_model.predict(test_X_no_depth)"
   ]
  },
  {
   "cell_type": "code",
   "execution_count": 101,
   "id": "ceramic-edward",
   "metadata": {},
   "outputs": [],
   "source": [
    "lin_mae = mean_absolute_error(lin_preds, test_y)"
   ]
  },
  {
   "cell_type": "code",
   "execution_count": 102,
   "id": "dominant-format",
   "metadata": {},
   "outputs": [
    {
     "name": "stdout",
     "output_type": "stream",
     "text": [
      "Percent Error:  0.23521824354312046\n"
     ]
    }
   ],
   "source": [
    "print(\"Percent Error: \", lin_mae/test_y.mean())"
   ]
  },
  {
   "cell_type": "code",
   "execution_count": null,
   "id": "greenhouse-label",
   "metadata": {},
   "outputs": [],
   "source": []
  },
  {
   "cell_type": "code",
   "execution_count": 86,
   "id": "overhead-chorus",
   "metadata": {},
   "outputs": [
    {
     "data": {
      "text/plain": [
       "<matplotlib.collections.PathCollection at 0x1d2ba950160>"
      ]
     },
     "execution_count": 86,
     "metadata": {},
     "output_type": "execute_result"
    },
    {
     "data": {
      "image/png": "[encoded data removed]",
      "text/plain": [
       "<Figure size 432x288 with 1 Axes>"
      ]
     },
     "metadata": {
      "needs_background": "light"
     },
     "output_type": "display_data"
    }
   ],
   "source": [
    "plt.scatter(dfProdFull[\"Porosity, fraction\"], dfProdFull[\"Rock facies\"])"
   ]
  },
  {
   "cell_type": "code",
   "execution_count": 34,
   "id": "earlier-spanking",
   "metadata": {},
   "outputs": [
    {
     "ename": "NameError",
     "evalue": "name 'pfProdFull' is not defined",
     "output_type": "error",
     "traceback": [
      "\u001b[1;31m---------------------------------------------------------------------------\u001b[0m",
      "\u001b[1;31mNameError\u001b[0m                                 Traceback (most recent call last)",
      "\u001b[1;32m<ipython-input-34-8088e394e871>\u001b[0m in \u001b[0;36m<module>\u001b[1;34m\u001b[0m\n\u001b[1;32m----> 1\u001b[1;33m \u001b[0msns\u001b[0m\u001b[1;33m.\u001b[0m\u001b[0mpairplot\u001b[0m\u001b[1;33m(\u001b[0m\u001b[0mpfProdFull\u001b[0m\u001b[1;33m)\u001b[0m\u001b[1;33m\u001b[0m\u001b[1;33m\u001b[0m\u001b[0m\n\u001b[0m",
      "\u001b[1;31mNameError\u001b[0m: name 'pfProdFull' is not defined"
     ]
    }
   ],
   "source": [
    "sns.pairplot(dfProdFull)"
   ]
  },
  {
   "cell_type": "code",
   "execution_count": null,
   "id": "thermal-fever",
   "metadata": {
    "tags": []
   },
   "outputs": [],
   "source": [
    "sns.pairplot(dfProdimputed)"
   ]
  },
  {
   "cell_type": "code",
   "execution_count": 65,
   "id": "mounted-delicious",
   "metadata": {},
   "outputs": [],
   "source": [
    "sandy_array = np.load(r\"..\\map_data\\2d_sand_propotion.npy\")\n",
    "ai_array = np.load(r\"..\\map_data\\2d_ai.npy\")\n",
    "sandy_shale = np.load(r\"..\\map_data\\2d_sandy_shale_propotion.npy\")\n",
    "shale_array = np.load(r\"..\\map_data\\2d_shale_propotion.npy\")\n",
    "shaly_sand = np.load(r\"..\\map_data\\2d_shaly_sand_propotion.npy\")\n",
    "top_depth = np.load(r\"..\\map_data\\2d_top_depth.npy\")"
   ]
  },
  {
   "cell_type": "code",
   "execution_count": 66,
   "id": "finished-malaysia",
   "metadata": {},
   "outputs": [
    {
     "name": "stdout",
     "output_type": "stream",
     "text": [
      "[[3061.78608349 3061.93972735 3061.93972735 ... 3054.6245948\n",
      "  3054.6245948  3054.71546578]\n",
      " [3061.80240502 3061.96331407 3061.96331407 ... 3054.75819748\n",
      "  3054.75819748 3054.84575422]\n",
      " [3061.80240502 3061.96331407 3061.96331407 ... 3054.75819748\n",
      "  3054.75819748 3054.84575422]\n",
      " ...\n",
      " [3057.92411801 3057.91822399 3057.91822399 ... 3057.79205588\n",
      "  3057.79205588 3057.79458394]\n",
      " [3057.92411801 3057.91822399 3057.91822399 ... 3057.79205588\n",
      "  3057.79205588 3057.79458394]\n",
      " [3057.92054766 3057.91551587 3057.91551587 ... 3057.93997499\n",
      "  3057.93997499 3057.92944058]]\n"
     ]
    }
   ],
   "source": [
    "print(top_depth)"
   ]
  },
  {
   "cell_type": "code",
   "execution_count": 67,
   "id": "certified-disco",
   "metadata": {},
   "outputs": [
    {
     "data": {
      "text/plain": [
       "3052.83082351195"
      ]
     },
     "execution_count": 67,
     "metadata": {},
     "output_type": "execute_result"
    }
   ],
   "source": [
    "top_depth[146][143]"
   ]
  },
  {
   "cell_type": "code",
   "execution_count": 39,
   "id": "labeled-protocol",
   "metadata": {},
   "outputs": [
    {
     "data": {
      "text/plain": [
       "(200, 200)"
      ]
     },
     "execution_count": 39,
     "metadata": {},
     "output_type": "execute_result"
    }
   ],
   "source": [
    "sandy.shape"
   ]
  },
  {
   "cell_type": "code",
   "execution_count": 40,
   "id": "amazing-store",
   "metadata": {},
   "outputs": [
    {
     "data": {
      "text/plain": [
       "array([0.28      , 0.26530612, 0.26      , ..., 0.08333333, 0.08333333,\n",
       "       0.08510638])"
      ]
     },
     "execution_count": 40,
     "metadata": {},
     "output_type": "execute_result"
    }
   ],
   "source": [
    "sandy.flatten()"
   ]
  },
  {
   "cell_type": "code",
   "execution_count": null,
   "id": "wound-repository",
   "metadata": {},
   "outputs": [],
   "source": []
  }
 ],
 "metadata": {
  "kernelspec": {
   "display_name": "Python 3",
   "language": "python",
   "name": "python3"
  },
  "language_info": {
   "codemirror_mode": {
    "name": "ipython",
    "version": 3
   },
   "file_extension": ".py",
   "mimetype": "text/x-python",
   "name": "python",
   "nbconvert_exporter": "python",
   "pygments_lexer": "ipython3",
   "version": "3.8.5"
  }
 },
 "nbformat": 4,
 "nbformat_minor": 5
}
