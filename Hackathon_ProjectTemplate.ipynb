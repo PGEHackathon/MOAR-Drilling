{
 "cells": [
  {
   "cell_type": "markdown",
   "metadata": {},
   "source": [
    "# Energy A.I. Hackathon 2021 - Project Template \n",
    "\n",
    "## General Guidance\n",
    "\n",
    "We're expecting a workflow that could be deployed to any competent engineer or scientist with basic subsurface resource, data analytics and machine learning knowledge and they could understand and apply your workflow. \n",
    "\n",
    "### Expectations on the Workflow\n",
    "\n",
    "* include short descriptions, no 2 code blocks should be adjacent, always have a short statement to explain the next code block\n",
    "\n",
    "* be as concise as possible:\n",
    "\n",
    "    * use point form (except for the executive summary) \n",
    "    * use effective, creative figures that compine what could have been in multiple plots\n",
    "    * every line of code, statment or figure must have purpose\n",
    "    * conciseness is part of the grading, don't add content that isn't needed\n",
    "    \n",
    "* be very clear with readable code\n",
    "\n",
    "    * label every axis for every plot\n",
    "    * use readable code, logical variable names, use available functionality and define functions and classes for compactness and concise comments in the code\n",
    "    * proceed step by step, explain each important step concisely for a easy to follow narrative \n",
    "    \n",
    "  \n",
    "### Using Code From Others\n",
    "  \n",
    "You may use blocks/snipets of code from other sources with citation. To cite a set of code separate in a block and do this in the markdown above the block.\n",
    "\n",
    "The following code block is from Professor Michael Pyrcz (@GeostatsGuy), SubSurfuceDataAnalytics_PCA.ipynb from [GeostatsGuy GitHub](https://github.com/GeostatsGuy/PythonNumericalDemos/blob/master/SubsurfaceDataAnalytics_PCA.ipynb).\n",
    "\n",
    "```python\n",
    "def simple_simple_krige(df,xcol,ycol,vcol,dfl,xlcol,ylcol,vario,skmean):\n",
    "# load the variogram\n",
    "    nst = vario['nst']; pmx = 9999.9\n",
    "    cc = np.zeros(nst); aa = np.zeros(nst); it = np.zeros(nst)\n",
    "```\n",
    "\n",
    "or use inline citations with comments, such as this for a few of lines of code.\n",
    "\n",
    "```python\n",
    "def simple_simple_krige(df,xcol,ycol,vcol,dfl,xlcol,ylcol,vario,skmean): # function from Professor Michael Pyrcz,https://github.com/GeostatsGuy/PythonNumericalDemos/blob/master/SubsurfaceDataAnalytics_PCA.ipynb \n",
    "```\n",
    "\n",
    "## The Workflow Template\n",
    "\n",
    "Here's the template for your workflow.\n",
    "\n",
    "___\n",
    "\n",
    "# Energy A.I. Hackathon 2021 Workflow - MOAR Drilling\n",
    "\n",
    "#### Authors:\n",
    "####  - **Irvin Shen**,  Mechanical Engineering\n",
    "####  - **Sebastian Prez**, Petroleum and Geological Engineering\n",
    "####  - **Jake Lockwood**, Petroleum and Geological Engineering\n",
    "\n",
    "#### The University of Texas at Austin, Austin, Texas USA \n",
    "___\n",
    "\n",
    "### Executive Summary \n",
    "\n",
    "Only 4 short sentences.\n",
    "\n",
    "1. What is the problem?  \n",
    "We were tasked with forecasting production of 10 unproduced wells from the production, well log, and seismic data of 73 others wells in the reservoir.  \n",
    "2. What did your team do to address the problem?  \n",
    "Production was forecasted by upscaling well data, quantifying features, and using a gradient boosted decision tree model.\n",
    "3. What did your team learn?  \n",
    "Our three-year cumulative production estimates have a mean absolute error near 20% and ___.\n",
    "4. What does your team recommend going forward?\n",
    "Production of the 10 wells may commence immediately as global oil demand has returned and oil prices are predicted to rise.\n",
    "\n",
    "___\n",
    "\n",
    "### Workflow Goal\n",
    "\n",
    "Our workflow aimed to forecast oil production for the 10 production wells using gradient boosted trees. To ensure a strong model, we utilized mean average error to find the accuracy of our model throughout.\n",
    "___"
   ]
  },
  {
   "cell_type": "markdown",
   "metadata": {},
   "source": [
    "### Import Packages"
   ]
  },
  {
   "cell_type": "code",
   "execution_count": 1,
   "metadata": {},
   "outputs": [],
   "source": [
    "# Data import and processing\n",
    "import pandas as pd\n",
    "import numpy as np\n",
    "\n",
    "# Plotting and visualization\n",
    "import seaborn as sns\n",
    "import matplotlib.pyplot as plt\n",
    "import plotly.express as px\n",
    "\n",
    "# Machine Learning modules from sklearn\n",
    "from sklearn.model_selection import train_test_split\n",
    "from sklearn.preprocessing import StandardScaler\n",
    "from sklearn.metrics import mean_absolute_error\n",
    "\n",
    "# Gradient-boosted Decision Trees\n",
    "import xgboost as xgb"
   ]
  },
  {
   "cell_type": "markdown",
   "metadata": {},
   "source": [
    "### Load Data\n",
    "\n",
    "Load the sample data and production data for the wells already in production."
   ]
  },
  {
   "cell_type": "code",
   "execution_count": 2,
   "metadata": {},
   "outputs": [
    {
     "data": {
      "text/html": [
       "<div>\n",
       "<style scoped>\n",
       "    .dataframe tbody tr th:only-of-type {\n",
       "        vertical-align: middle;\n",
       "    }\n",
       "\n",
       "    .dataframe tbody tr th {\n",
       "        vertical-align: top;\n",
       "    }\n",
       "\n",
       "    .dataframe thead th {\n",
       "        text-align: right;\n",
       "    }\n",
       "</style>\n",
       "<table border=\"1\" class=\"dataframe\">\n",
       "  <thead>\n",
       "    <tr style=\"text-align: right;\">\n",
       "      <th></th>\n",
       "      <th>Well_ID</th>\n",
       "      <th>X, m</th>\n",
       "      <th>Y, m</th>\n",
       "      <th>Depth, m</th>\n",
       "      <th>Porosity, fraction</th>\n",
       "      <th>Permeability, mD</th>\n",
       "      <th>Acoustic Impedance, kg*s/m^2</th>\n",
       "      <th>Rock facies</th>\n",
       "      <th>Density, g/cm3</th>\n",
       "      <th>Compressible velocity, m/s</th>\n",
       "      <th>Youngs modulus, GPa</th>\n",
       "      <th>Shear velocity, m/s</th>\n",
       "      <th>Shear modulus, GPa</th>\n",
       "    </tr>\n",
       "  </thead>\n",
       "  <tbody>\n",
       "    <tr>\n",
       "      <th>0</th>\n",
       "      <td>Well_no_1</td>\n",
       "      <td>7325</td>\n",
       "      <td>7175</td>\n",
       "      <td>3052.8</td>\n",
       "      <td>0.13330</td>\n",
       "      <td>NaN</td>\n",
       "      <td>6981171.853</td>\n",
       "      <td>Sandstone</td>\n",
       "      <td>2.280137</td>\n",
       "      <td>3106.544655</td>\n",
       "      <td>24.721555</td>\n",
       "      <td>1690.417133</td>\n",
       "      <td>7.304717</td>\n",
       "    </tr>\n",
       "    <tr>\n",
       "      <th>1</th>\n",
       "      <td>Well_no_1</td>\n",
       "      <td>7325</td>\n",
       "      <td>7175</td>\n",
       "      <td>3053.3</td>\n",
       "      <td>0.13865</td>\n",
       "      <td>NaN</td>\n",
       "      <td>7234748.871</td>\n",
       "      <td>Sandstone</td>\n",
       "      <td>2.135061</td>\n",
       "      <td>4003.697087</td>\n",
       "      <td>23.360728</td>\n",
       "      <td>1573.847967</td>\n",
       "      <td>5.202120</td>\n",
       "    </tr>\n",
       "    <tr>\n",
       "      <th>2</th>\n",
       "      <td>Well_no_1</td>\n",
       "      <td>7325</td>\n",
       "      <td>7175</td>\n",
       "      <td>3053.8</td>\n",
       "      <td>0.14638</td>\n",
       "      <td>NaN</td>\n",
       "      <td>7157383.755</td>\n",
       "      <td>Sandstone</td>\n",
       "      <td>1.991045</td>\n",
       "      <td>3462.569030</td>\n",
       "      <td>28.232152</td>\n",
       "      <td>1636.279139</td>\n",
       "      <td>NaN</td>\n",
       "    </tr>\n",
       "    <tr>\n",
       "      <th>3</th>\n",
       "      <td>Well_no_1</td>\n",
       "      <td>7325</td>\n",
       "      <td>7175</td>\n",
       "      <td>3054.3</td>\n",
       "      <td>NaN</td>\n",
       "      <td>NaN</td>\n",
       "      <td>NaN</td>\n",
       "      <td>Sandstone</td>\n",
       "      <td>1.694242</td>\n",
       "      <td>3836.960702</td>\n",
       "      <td>29.220132</td>\n",
       "      <td>1613.043048</td>\n",
       "      <td>5.074763</td>\n",
       "    </tr>\n",
       "    <tr>\n",
       "      <th>4</th>\n",
       "      <td>Well_no_1</td>\n",
       "      <td>7325</td>\n",
       "      <td>7175</td>\n",
       "      <td>3054.8</td>\n",
       "      <td>0.14993</td>\n",
       "      <td>NaN</td>\n",
       "      <td>NaN</td>\n",
       "      <td>Sandstone</td>\n",
       "      <td>1.664371</td>\n",
       "      <td>3919.585777</td>\n",
       "      <td>NaN</td>\n",
       "      <td>1636.846284</td>\n",
       "      <td>5.277834</td>\n",
       "    </tr>\n",
       "  </tbody>\n",
       "</table>\n",
       "</div>"
      ],
      "text/plain": [
       "     Well_ID  X, m  Y, m  Depth, m  Porosity, fraction  Permeability, mD  \\\n",
       "0  Well_no_1  7325  7175    3052.8             0.13330               NaN   \n",
       "1  Well_no_1  7325  7175    3053.3             0.13865               NaN   \n",
       "2  Well_no_1  7325  7175    3053.8             0.14638               NaN   \n",
       "3  Well_no_1  7325  7175    3054.3                 NaN               NaN   \n",
       "4  Well_no_1  7325  7175    3054.8             0.14993               NaN   \n",
       "\n",
       "   Acoustic Impedance, kg*s/m^2 Rock facies  Density, g/cm3  \\\n",
       "0                   6981171.853   Sandstone        2.280137   \n",
       "1                   7234748.871   Sandstone        2.135061   \n",
       "2                   7157383.755   Sandstone        1.991045   \n",
       "3                           NaN   Sandstone        1.694242   \n",
       "4                           NaN   Sandstone        1.664371   \n",
       "\n",
       "   Compressible velocity, m/s  Youngs modulus, GPa  Shear velocity, m/s  \\\n",
       "0                 3106.544655            24.721555          1690.417133   \n",
       "1                 4003.697087            23.360728          1573.847967   \n",
       "2                 3462.569030            28.232152          1636.279139   \n",
       "3                 3836.960702            29.220132          1613.043048   \n",
       "4                 3919.585777                  NaN          1636.846284   \n",
       "\n",
       "   Shear modulus, GPa  \n",
       "0            7.304717  \n",
       "1            5.202120  \n",
       "2                 NaN  \n",
       "3            5.074763  \n",
       "4            5.277834  "
      ]
     },
     "execution_count": 2,
     "metadata": {},
     "output_type": "execute_result"
    }
   ],
   "source": [
    "dfProdSamples = pd.read_csv(r\"./well_data/wellbore_data_producer_wells.csv\")\n",
    "dfProdHist = pd.read_csv(r\"./prod_data/production_history.csv\")\n",
    "dfProdSamples.head()\n"
   ]
  },
  {
   "cell_type": "markdown",
   "metadata": {},
   "source": [
    "### Data Processing\n",
    "Process data for easier readability and model construction.\n",
    "First we change the \"Rock facies\" column into an ordinal discrete column that's a measure of \"sandiness\".  \n",
    "Then, we calculate the euclidian distance from each well to the fault line and process that as two seperate columns, one for being above or below the fault, and the other as the absolute value of it's distance."
   ]
  },
  {
   "cell_type": "code",
   "execution_count": 3,
   "metadata": {},
   "outputs": [],
   "source": [
    "def process_data( df):\n",
    "    # Dictionary to process rock facies into a \"sandiness measure\", an ordinal measure\n",
    "    ordinal_mapper = {'Sandstone': 3, 'Sandy shale': 1, 'Shaly sandstone': 2, 'Shale': 0}\n",
    "    df['Rock facies'] = df['Rock facies'].replace(ordinal_mapper)\n",
    "    # Group all well samples together by well and simply take the mean of each measure\n",
    "    df = df.groupby(df[\"Well_ID\"]).mean()\n",
    "    # Calculate distance to fault\n",
    "    df['Fault Distance, m'] = (((-1)*df['X, m'])+((-1)*df['Y, m'])+11750)/np.sqrt(2)\n",
    "    # Positive values of distance are above the line and negative values are below\n",
    "    df[\"Above Fault\"] = (df[\"Fault Distance, m\"] > 0).astype(int)\n",
    "    # Final distance should be an absolute value\n",
    "    df['Fault Distance, m'] = abs(df['Fault Distance, m'])\n",
    "    return df"
   ]
  },
  {
   "cell_type": "markdown",
   "metadata": {},
   "source": [
    "#### Apply function to training data\n",
    "\n",
    "Now that our function has been created we can apply it to the initial dataset and combine it with the production data to create a single DataFrame that expresses each Well. We remove all production columns except the 3 year cumulative oil production, as we won't have the rest of the data for the pre-production wells, so they can't be features. The 3 year cumulative oil production will be our target variable. Additionally, we also created X as our features and y as our target variable."
   ]
  },
  {
   "cell_type": "code",
   "execution_count": 4,
   "metadata": {},
   "outputs": [],
   "source": [
    "dfProdProc = process_data(dfProdSamples)\n",
    "unneeded = [\"Cumulative oil production (1 yr), MSTB\", \n",
    "              \"Cumulative oil production (2 yr), MSTB\",\n",
    "              \"Cumulative Water production (1 yr), MSTB\", \n",
    "              \"Cumulative Water production (2 yr), MSTB\", \n",
    "              \"Cumulative Water production (3 yr), MSTB\"]\n",
    "dfProdHistDr = dfProdHist.drop(unneeded, axis=1).set_index(\"Well_ID\")\n",
    "dfProdFinal = pd.concat([dfProdProc, dfProdHistDr], axis=1)\n",
    "X = dfProdFinal.drop([\"Cumulative oil production (3 yr), MSTB\"], axis=1)\n",
    "y = dfProdFinal[\"Cumulative oil production (3 yr), MSTB\"]"
   ]
  },
  {
   "cell_type": "markdown",
   "metadata": {},
   "source": [
    "### Correlation Matrix Function\n",
    "\n",
    "The following code block is modified from one originally from Professor Michael Pyrcz (@GeostatsGuy) and Professor John Foster (@johntfoster), SubSurfuceDataAnalytics_PCA.ipynb from GeostatsGuy GitHub."
   ]
  },
  {
   "cell_type": "code",
   "execution_count": 5,
   "metadata": {},
   "outputs": [],
   "source": [
    "def plot_corr(dataframe,size=10):                       # plots a correlation matrix as a heat map \n",
    "    corr = dataframe.corr()\n",
    "    fig, ax = plt.subplots(figsize=(size, size))\n",
    "    im = ax.matshow(corr,vmin = -1.0, vmax = 1.0, cmap = \"bwr\")\n",
    "    plt.xticks(range(len(corr.columns)), corr.columns, rotation = 90);\n",
    "    plt.yticks(range(len(corr.columns)), corr.columns);\n",
    "    plt.colorbar(im, orientation = 'vertical')\n",
    "    plt.title('Correlation Matrix')"
   ]
  },
  {
   "cell_type": "markdown",
   "metadata": {},
   "source": [
    "### Basic Data Checking and Visualization\n",
    "\n",
    "Our correlation matrix indicates that there's low levels of correlation for most features outside of perhpas porosity ofn acoustic impedance. However, performing PCA loses explainability and removes the ability to prescribe different changes in the data collection going forward as it abstracts real-world features into arbitrary columns. A useful alternative would be factor analysis, but time did not permit for this analysis. With that in mind, we decided to use all features from the samples in our model. Since there's low levels of linearity, we decided that a decision tree-based model would be best to capture areas in our data that have different productions."
   ]
  },
  {
   "cell_type": "code",
   "execution_count": 6,
   "metadata": {},
   "outputs": [
    {
     "data": {
      "image/png": "[encoded data removed]",
      "text/plain": [
       "<Figure size 720x720 with 2 Axes>"
      ]
     },
     "metadata": {
      "needs_background": "light"
     },
     "output_type": "display_data"
    }
   ],
   "source": [
    "plot_corr(dfProdFinal)"
   ]
  },
  {
   "cell_type": "markdown",
   "metadata": {},
   "source": [
    "#### Model Generation Function\n",
    "\n",
    "We needed to build out a function that could generate 100 versions of our model based on different bagged samples of our data. We utilized sklearn's train_test_split to grab 75% of the data at a time and applied xgboost's XGBRegressor algorithm to utilize gradient-boosted decision trees. Additionally, we also grab the out-of-bag error for each of our models to get a sense of it's MAE."
   ]
  },
  {
   "cell_type": "code",
   "execution_count": 7,
   "metadata": {},
   "outputs": [],
   "source": [
    "def model_generator(features, target, seed):\n",
    "    train_X, test_X, train_y, test_y = train_test_split(features, target, random_state=seed)\n",
    "    model = xgb.XGBRegressor(random_state=1, n_jobs=-1)\n",
    "    model.fit(train_X, train_y)\n",
    "    preds = model.predict(test_X)\n",
    "    oob_error = mean_absolute_error(preds, test_y)\n",
    "    return [model, oob_error]"
   ]
  },
  {
   "cell_type": "markdown",
   "metadata": {},
   "source": [
    "#### Build out Models and Assess Error\n",
    "\n",
    "We create a list of models, which are generated with 100 different seeds of the test-train-split. Additionally, we take the errors for each of our models and average them to give us a general sense of the out-of-bag error for our ensemble model."
   ]
  },
  {
   "cell_type": "code",
   "execution_count": 8,
   "metadata": {},
   "outputs": [
    {
     "name": "stdout",
     "output_type": "stream",
     "text": [
      "The average MAE of the predictors is:  222.386624233527\n",
      "The MAE in terms of percentage of the mean production is:  0.23633612096224002\n"
     ]
    }
   ],
   "source": [
    "models = []\n",
    "error_list = []\n",
    "rng = np.random.RandomState(42)\n",
    "for i in range(100):\n",
    "    model_gens = model_generator(X, y, rng.randint(0, 10000))\n",
    "    models.append(model_gens[0])\n",
    "    error_list.append(model_gens[1])\n",
    "    \n",
    "final_error = sum(error_list)/len(error_list)\n",
    "print(\"The average MAE of the predictors is: \", final_error)\n",
    "print(\"The MAE in terms of percentage of the mean production is: \", final_error/y.mean())"
   ]
  },
  {
   "cell_type": "markdown",
   "metadata": {},
   "source": [
    "#### Import Pre-production Well Data\n",
    "\n",
    "Now that we have models built we need to apply them to our pre-production data. To do that, we must first import said data, then apply our same function to prepare the data for our model."
   ]
  },
  {
   "cell_type": "code",
   "execution_count": 9,
   "metadata": {},
   "outputs": [],
   "source": [
    "dfPreProd = pd.read_csv(r\"./well_data/wellbore_data_preproduction_well.csv\")\n",
    "dfPreProdFinal = process_data(dfPreProd)"
   ]
  },
  {
   "cell_type": "markdown",
   "metadata": {},
   "source": [
    "#### Apply Model to Pre-production Wells\n",
    "We need the names for each of our realizations, as it has in the solutions, so first we create an array of column names with R1, R2, ..., R100\n",
    "Then, we loop through our models and apply each one to our data to create 100 realizations each."
   ]
  },
  {
   "cell_type": "code",
   "execution_count": 10,
   "metadata": {},
   "outputs": [],
   "source": [
    "names = []\n",
    "for i in range(100):\n",
    "    names.append(\"R\"+ str(i+1) + \", MSTB\")\n",
    "    \n",
    "predictions = np.array([])\n",
    "for model in models:\n",
    "    predictions = np.append(predictions, np.array(model.predict(dfPreProdFinal)))\n",
    "    \n",
    "predictions = pd.DataFrame(predictions.reshape(100,10).T, columns=names)"
   ]
  },
  {
   "cell_type": "markdown",
   "metadata": {},
   "source": [
    "#### Realization Histograms\n",
    "\n",
    "Now, to check the viability of our realizations, we graphed them to ensure that they didn't seem strangely uniform or overly concentrated in any one spot. Additionally, we see that most of our graphs are normal or near-normal."
   ]
  },
  {
   "cell_type": "code",
   "execution_count": 11,
   "metadata": {},
   "outputs": [
    {
     "data": {
      "image/png": "[encoded data removed]",
      "text/plain": [
       "<Figure size 792x612 with 10 Axes>"
      ]
     },
     "metadata": {
      "needs_background": "light"
     },
     "output_type": "display_data"
    }
   ],
   "source": [
    "predictions[\"Well_ID\"] = dfPreProdFinal.index\n",
    "predictions = predictions.set_index(\"Well_ID\")\n",
    "predictions.T.hist(layout=(2,5), figsize=(11, 8.5), grid=False, bins=9, linewidth=1, edgecolor=\"black\"); #Semicolon added to suppress extra Matplotlib output"
   ]
  },
  {
   "cell_type": "markdown",
   "metadata": {},
   "source": [
    "#### Percentiles for Realizations\n",
    "\n",
    "We then took the realizations and created a table of their P10, P50, and P90 values to give a better sense of bull and bear cases for each well."
   ]
  },
  {
   "cell_type": "code",
   "execution_count": 12,
   "metadata": {},
   "outputs": [
    {
     "data": {
      "text/html": [
       "<div>\n",
       "<style scoped>\n",
       "    .dataframe tbody tr th:only-of-type {\n",
       "        vertical-align: middle;\n",
       "    }\n",
       "\n",
       "    .dataframe tbody tr th {\n",
       "        vertical-align: top;\n",
       "    }\n",
       "\n",
       "    .dataframe thead th {\n",
       "        text-align: right;\n",
       "    }\n",
       "</style>\n",
       "<table border=\"1\" class=\"dataframe\">\n",
       "  <thead>\n",
       "    <tr style=\"text-align: right;\">\n",
       "      <th>Well_ID</th>\n",
       "      <th>Well_no_74</th>\n",
       "      <th>Well_no_75</th>\n",
       "      <th>Well_no_76</th>\n",
       "      <th>Well_no_77</th>\n",
       "      <th>Well_no_78</th>\n",
       "      <th>Well_no_79</th>\n",
       "      <th>Well_no_80</th>\n",
       "      <th>Well_no_81</th>\n",
       "      <th>Well_no_82</th>\n",
       "      <th>Well_no_83</th>\n",
       "    </tr>\n",
       "    <tr>\n",
       "      <th>Percentile</th>\n",
       "      <th></th>\n",
       "      <th></th>\n",
       "      <th></th>\n",
       "      <th></th>\n",
       "      <th></th>\n",
       "      <th></th>\n",
       "      <th></th>\n",
       "      <th></th>\n",
       "      <th></th>\n",
       "      <th></th>\n",
       "    </tr>\n",
       "  </thead>\n",
       "  <tbody>\n",
       "    <tr>\n",
       "      <th>0.1</th>\n",
       "      <td>614.162024</td>\n",
       "      <td>481.249243</td>\n",
       "      <td>879.518994</td>\n",
       "      <td>1174.751147</td>\n",
       "      <td>908.311511</td>\n",
       "      <td>1171.224487</td>\n",
       "      <td>579.583148</td>\n",
       "      <td>619.234430</td>\n",
       "      <td>930.929675</td>\n",
       "      <td>851.354572</td>\n",
       "    </tr>\n",
       "    <tr>\n",
       "      <th>0.5</th>\n",
       "      <td>716.731506</td>\n",
       "      <td>590.163544</td>\n",
       "      <td>1136.709290</td>\n",
       "      <td>1294.682556</td>\n",
       "      <td>1092.323120</td>\n",
       "      <td>1329.355408</td>\n",
       "      <td>726.627594</td>\n",
       "      <td>735.697968</td>\n",
       "      <td>1148.454163</td>\n",
       "      <td>1041.290405</td>\n",
       "    </tr>\n",
       "    <tr>\n",
       "      <th>0.9</th>\n",
       "      <td>897.916888</td>\n",
       "      <td>712.961469</td>\n",
       "      <td>1346.238196</td>\n",
       "      <td>1427.862512</td>\n",
       "      <td>1243.321875</td>\n",
       "      <td>1468.173376</td>\n",
       "      <td>872.087866</td>\n",
       "      <td>912.029401</td>\n",
       "      <td>1314.268567</td>\n",
       "      <td>1214.107996</td>\n",
       "    </tr>\n",
       "  </tbody>\n",
       "</table>\n",
       "</div>"
      ],
      "text/plain": [
       "Well_ID     Well_no_74  Well_no_75   Well_no_76   Well_no_77   Well_no_78  \\\n",
       "Percentile                                                                  \n",
       "0.1         614.162024  481.249243   879.518994  1174.751147   908.311511   \n",
       "0.5         716.731506  590.163544  1136.709290  1294.682556  1092.323120   \n",
       "0.9         897.916888  712.961469  1346.238196  1427.862512  1243.321875   \n",
       "\n",
       "Well_ID      Well_no_79  Well_no_80  Well_no_81   Well_no_82   Well_no_83  \n",
       "Percentile                                                                 \n",
       "0.1         1171.224487  579.583148  619.234430   930.929675   851.354572  \n",
       "0.5         1329.355408  726.627594  735.697968  1148.454163  1041.290405  \n",
       "0.9         1468.173376  872.087866  912.029401  1314.268567  1214.107996  "
      ]
     },
     "execution_count": 12,
     "metadata": {},
     "output_type": "execute_result"
    }
   ],
   "source": [
    "p_values = pd.DataFrame([predictions.T.quantile(.10), predictions.T.quantile(.50), predictions.T.quantile(.90)])\n",
    "p_values.index.names = ['Percentile']\n",
    "p_values"
   ]
  },
  {
   "cell_type": "markdown",
   "metadata": {},
   "source": [
    "#### Finalize Results and Format Output\n",
    "Finally, we create a \"Prediction\" for each well, based on the mean of the realizations for each respective well. Then, we reformat the DataFrame to match the formatting of the solutions by moving columns and setting the index properly. Finally, we use Pandas to export our realizations to a CSV"
   ]
  },
  {
   "cell_type": "code",
   "execution_count": 13,
   "metadata": {},
   "outputs": [],
   "source": [
    "predictions[\"Prediction, MSTB\"] = predictions.mean(axis=1)\n",
    "predictions = predictions[[\"Prediction, MSTB\"] + names]\n",
    "predictions.to_csv(r\".\\final_solutions.csv\")"
   ]
  }
 ],
 "metadata": {
  "kernelspec": {
   "display_name": "Python 3",
   "language": "python",
   "name": "python3"
  },
  "language_info": {
   "codemirror_mode": {
    "name": "ipython",
    "version": 3
   },
   "file_extension": ".py",
   "mimetype": "text/x-python",
   "name": "python",
   "nbconvert_exporter": "python",
   "pygments_lexer": "ipython3",
   "version": "3.8.5"
  }
 },
 "nbformat": 4,
 "nbformat_minor": 4
}
